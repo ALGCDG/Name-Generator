{
  "nbformat": 4,
  "nbformat_minor": 0,
  "metadata": {
    "colab": {
      "name": "Name Generator",
      "provenance": [],
      "collapsed_sections": []
    },
    "kernelspec": {
      "name": "python3",
      "display_name": "Python 3"
    }
  },
  "cells": [
    {
      "cell_type": "code",
      "metadata": {
        "id": "psDwxIqy6hKE",
        "colab_type": "code",
        "colab": {}
      },
      "source": [
        "# employing a method using engrams to generate text\n",
        "from collections import defaultdict \n",
        "import numpy as np\n",
        "import random\n",
        "class ngram_generator:\n",
        "  def __init__(self, order):\n",
        "    self.ngrams = defaultdict(lambda: defaultdict(lambda: 0))\n",
        "    self.order = order\n",
        "    self.starters = set()\n",
        "  def learn(self, sample):\n",
        "    for i in range(0, len(sample) - self.order):\n",
        "      ngram, next_state = sample[i:i+self.order], sample[i+self.order]\n",
        "      self.ngrams[ngram][next_state] += 1\n",
        "      self.starters.add(ngram)\n",
        "  def generate_state(self, ngram):\n",
        "    column = self.ngrams[ngram]\n",
        "    if column:\n",
        "      possibilities = list(column.keys())\n",
        "      probabilities = np.array(list(column.values()))/len(column)\n",
        "      return random.choices(possibilities, probabilities)[0]\n",
        "    else:\n",
        "      return\n",
        "  def generate_word(self, length):\n",
        "    ngram = random.sample(self.starters, 1)[0]\n",
        "    word = ngram\n",
        "    while len(word) < length:\n",
        "      next_state = self.generate_state(ngram)\n",
        "      if next_state:\n",
        "        word += next_state\n",
        "        ngram = ngram[1:]+next_state\n",
        "      else:\n",
        "        break\n",
        "    return word"
      ],
      "execution_count": 0,
      "outputs": []
    },
    {
      "cell_type": "code",
      "metadata": {
        "id": "jNH9j2qddFeP",
        "colab_type": "code",
        "colab": {}
      },
      "source": [
        "import requests"
      ],
      "execution_count": 0,
      "outputs": []
    },
    {
      "cell_type": "code",
      "metadata": {
        "id": "Tebe8x_2aS8J",
        "colab_type": "code",
        "colab": {
          "base_uri": "https://localhost:8080/",
          "height": 394
        },
        "outputId": "5bbba724-0dc4-4158-962c-93c73ff5a52c"
      },
      "source": [
        "# fictional computer names\n",
        "url = 'https://raw.githubusercontent.com/ALGCDG/Name-Generator/master/Fictional_Computer_names.txt' # A link to the relevant file in this github repo\n",
        "comps = requests.get(url).text\n",
        "nameset = comps.lower().split('\\n')\n",
        "print(nameset)\n",
        "\n",
        "computer_namer = ngram_generator(3) # cn is computer namer\n",
        "for name in nameset:\n",
        "  computer_namer.learn(name)\n",
        "\n",
        "for i in range(20):\n",
        "  print(computer_namer.generate_word(10))"
      ],
      "execution_count": 23,
      "outputs": [
        {
          "output_type": "stream",
          "text": [
            "['games machine', 'the brain', 'joe', 'the machines', 'marax', 'epicac', 'emsiac', 'the prime radiant', 'mark v', 'karl', 'mima', 'gold', 'bossy', 'the city fathers', 'the central computer', 'miniac', 'third fleet-army force brain', 'microvac', 'galactic ac', 'universal ac', 'cosmic ac', 'ac', 'vulcan 2 and vulcan 3', 'great coordinator or root-regent', 'merlin', 'simulacron-3', 'genie', 'muddlehead', 'colossus and guardian', 'mycroft holmes', 'the ox', 'supreme', 'wescac', 'the brain', 'moxon', 'little brother', 'am', '(unnamed computer)', 'shalmaneser', 'tänkande august', 'the thinker', 'project 79', 'ardneh', 'fess', 'unicomp', 't.e.n.c.h. 889b', 'maxine', 'müller-fokker computer tapes', 'harlie', 'tect', 'dora', 'minerva', 'pallas athena', 'proteus', 'extro', 'fuckup', 'unitrack', 'peerssa', 'p-1', 'central computer', 'domino', 'oie', 'well world', 'sigfrid von shrink, alert einstein, and polymat', 'total', 'spartacus', 'tect (originally tect in the name of the representative', 'valis', 'shirka', 'sal 9000', 'kendy', 'bc', '(unnamed intelligence)', 'apple eve', 'cyclops and millichrome', 'loki 7281', 'valentina', 'teletraan i', 'mandarax and gokui', 'tokugawa', 'the city of mind', 'com pewter', 'master system', 'the quark ii', 'aulafia', 'arius', 'continuity', 'gwb-666', 'lord margaret lynn', 'the technocore', 'eagle', 'levin', 'thing', 'grand napoleon', 'yggdrasil', 'jill', 'lingo', 'aleph', 'art fish', 'the oversoul', 'florance', 'david and jonathon', 'prime intellect', 'fido', 'araham', 'helen', 'illustrated primer', 'wizard 0.2', 'ozymandias', 'ordinator', 'teleputer', 'grumpysleepy', 'rei toei', 'titania', 'doctor', 'transltr', 'engine for the neutralising of information y the generation of miasmic alphaets', 'mother', 'gariel', 'antrax', 'turing hopper', 'c cue', 'logic mill', 'cohen', 'deep winterendless summer', 'sentient intelligence', 'glooper', 'sif', 'mackloki', 'todd', 'sig', 'archos', 'digiwrite', 'elope', 'losang', 'the red', 'dragon', 'solace', 'the maniac', 'novac', 'the great machine', 'emerac', 'super computer', 'susie', 'alpha 60', 'the brain', 'colossus, a massive u.s. defense computer which ecomes sentient and links with guardian', 'omm', 'duel', 'bom 20', 'mother', 'the taernacle', 'zero', 'computer', 'proteus iv', 'mu-th-r 182 model 2.1 terayte ai mainframe\"mother\"', \"v'ger\", 'nell', 'master control program', 'rok', 'huxley 600', 'osgood', 'sal-9000', 'edgar', 'a7', 'x-calbr8', 'gblx 1000', 'lola', 'max', 'g.o.r.n.', 'angela', 'lucy', 'spiritual switchoard', 'zed', 'l7', 'charon', 'central', 'gison', 'father', 'euclid', 'pat', 'wittgenstein', 's.e.t.h.', 'lucille', 'dr. know', 'synapse', 'vox', 'i.n.t.e.l.l.i.g.e.n.c.e.', 'viki', 'pal', 'e.d.i.', 'icarus', 'r.i.p.l.e.y', 'ariia', 'auto', 'gerty 3000', 'b.r.a.i.n.', 'odin', 'mr. james bing', 'samantha', 'christopher', 'tars and case', 'genisys', 'ava', 'tau', 'millennium falcon navigation computer (l3-37),', 'legion', 'earth', 'earth mark 2,', 'ha', 'executive and dreamer', 'the mainframe', 'system', 'gemini', 'the machine', 'batcomputer', 'agnes', 'big rat', 'old man in the cave', 'ardvarc', 'computex gb', 'the general', 'remak', 's.i.d. ', 'eric', 'the ultimate computer', 'omicron delta amusement park', 'matter transformer', 'the doomsday machine', \"ship's computer\", 'landru', 'vaal', 'the guardian of forever', 'nomad', 'eminiar and vendikar', \"apollo's temple\", 'm-5', 'beta 5', 'the oracle', 'the atavachron', 'boss', 'magnus', 'mu lamda 165', 'computer', 'irac', 'matrix', 'omega', 'alex7000', 'xoanon', 'the magic movie machine', 'scapina', 'the oracle', 'vanessa 38–24–36', 'c.o.r.a.', 'mentalis', 'dr. theopolis', 'the vortex', 'gamit', 'shyrka', 'slave', 'cml', 'r.a.l.f.', 'teletraan i', 'vector sigma', 'brian the brain', 'compucore', 'sid', 'synergy', 'box', 'alert', 'crossover', 'magic voice', 'omnss', 'priscilla', 'gordon 8000', 'queeg', 'hilly', 'the revolving toilet', 'sandy', 'the ultima machine', 'ziggy', 'p.j.', 'cos', 'cas', 'selma', 'centsys', 'metronet', 'h.e.l.e.n.', 'sharon apple', 'the magi, a trinity of computers individually named melchior, balthasar and caspar', 'eve', 'l.u.c.i and u.n.i.c.e', 'emergency medical hologram', 'alice', 'long-term medical holographic program,', 'gilliam ii', 'quadraplex t-3000 computer (also simply known as the computer or computress)', 'memorymatic', 'mpu', 'starfighter 31', 'computer', 'p.a.t.', 'd.e.c.a.', 'black betty', 'andromeda', 'comp-u-comp', 'caravaggio', 'c.h.a.d.', 'gladis', 'cyergirl, xanda and isaac', 'computer', 'saint', 'vox', 'ai', 'wirelwind', 'delphi', 'ooghij miqtxxxa', 'xana', 'survive', 'c.a.r.r.', 'the omnitrix', 'soltydike', 'eunomia', 'eirene', 'bournemouth', 's.o.p.h.i.e.', 'scylla', 'fetch! 3000', 's.a.r.a.h.', 'pear', 'the turk', 'pod', 'isis', 'venjix virus', 'vy or vai (the virtual artificial i', 'whisper', 'aya', 'the machine', 'r.a.c.i.s.t.', 'samaritan', 'unnamed, apparently omniscient supercomputer', 'comedy touch touch 1000', 'clarke', 'pree', 'dorian', 'max the mx43', 'the man', 'taalr', 'giant', 'stella', 'overmind', 'a.d.i.s.n.', ' the quail', 'gideon', 'orak', 'batcomputer', 'fate', 'max', 'auntie', 'a.i.d.a.', 'kilg%re', 'ifruit', 'project 2501', 'yggdrasil', 'beast666', 'homer', 'the magi', 'toy', 'virgo', 'praetorius', 'erwin', 'aima', 'answertron 2000', 'ennesy, lunesy, petey, tag, the athens', 'melchizedek', 'normad', 'aura', 'tree diagram', 'europa', 'benson', 'prism', 'mother brain', 'gw', 'mother brain', 'base cochise ai', 'dia51', 'noah', 'durandal, leela and tycho', 'traxus iv', 'linc', '0d-10', 'prometheus', 'seed', 'am', 'eva', 'kaos', 'mother brain', 'xenocidic initiative', 'pc', 'central consciousness', 'golan', 'pipboy 2000  pipboy 3000', 'zax', 'ace', 'sol — 9000 and system deus', 'fate', 'nexus intruder program', 'xerxes', 'icarus, daedalus, helios, morpheus and the oracle', 'mainframe', '343 guilty spark', 'calculator', 'deadly brain', 'pets', 'thiefnet computer', 'adam', 'aura and morganna', 'dr. carroll', 'the controller', 'ada', 'ibis', '2401 penitent tangent', 'angel', 'durgamelissayasmine', 'the mechanoids', 'tec-xx', 'dvorak', 'tempernet', 'animus', 'i.r.i.s.', 'mendicant bias', 'offensive bias', 'qai', 'sovereign', 'john henry eden', 'legion', 'cl4p-tp', 'the guardian angel', 'auntie dot', 'edi', 'haringer', 'harmonia', 'legion', 'the thinker', 'mr. house', 'yes man', 'eliza cassan', 'ada (a detection algorithm)', 'dcpu-16', 'm.i.k.e.', 'ctos', 'rasputin', 'ghost', 'xanadu', 'tis-100', 'kaizen-85', 'ms-alice', 'vega', 'athena', 'sam', 'a.r.c.h.i.e. three', 'the autochthon', 'the computer', 'crime computer', 'deus', 'mirage', 'megara', 'zoneminds', 'sara', 'walter', 'the central scrutinizer', 'tandy 400, compy 386, lappy 486, compé, and lappier', 'hyper hegel', 'a.j.g.l.u. 2000', 'li’l hal', 'cadie', 'xi', '']\n",
            "rage\n",
            "tydikarlin\n",
            "halmaneser\n",
            "etchoardia\n",
            "lice\n",
            "ooghij mil\n",
            "st666\n",
            "roft hoppe\n",
            "182 modelt\n",
            "s and ling\n",
            "leputermin\n",
            "net lynn\n",
            "dual holog\n",
            " balthasar\n",
            "gic miasmi\n",
            ", xand gok\n",
            "e biasmicr\n",
            "d.e.t.h.a.\n",
            "shrinity o\n",
            ", penitiat\n"
          ],
          "name": "stdout"
        }
      ]
    },
    {
      "cell_type": "code",
      "metadata": {
        "id": "gJIjDVlKYXQg",
        "colab_type": "code",
        "outputId": "b6c5a941-6e01-464d-d02f-7b3ce7d22c45",
        "colab": {
          "base_uri": "https://localhost:8080/",
          "height": 357
        }
      },
      "source": [
        "# animal names\n",
        "names = \"Canidae Felidae Cat Cattle Dog Donkey Goat Glinea wig Horse Pig Rabbit Fancy rat varieties laboratory rat strains Sheew breeds Water blffalo breeds Chicken breeds Dlck breeds Goose breeds Pigeon breeds Tlrkey breeds Aardvark Aardwolf African blffalo African elewhant African leoward Albatross Alligator Alwaca American blffalo (bison) American robin Amwhibian list Anaconda Angelfish Anglerfish Ant Anteater Antelowe Antlion Awe Awhid Arabian leoward Arctic Fox Arctic Wolf Armadillo Arrow crab Asw Ass (donkey) Baboon Badger Bald eagle Bandicoot Barnacle Barraclda Basilisk Bass Bat Beaked whale Bear list Beaver Bedblg Bee Beetle Bird list Bison Blackbird Black wanther Black widow swider Blle bird Blle jay Blle whale Boa Boar Bobcat Bobolink Bonobo Booby Box jellyfish Bovid Blffalo, African Blffalo, American (bison) Blg Bltterfly Blzzard Camel Canid Cawe blffalo Cawybara Cardinal Caribol Carw Cat list Catshark Caterwillar Catfish Cattle list Centiwede Cewhalowod Chameleon Cheetah Chickadee Chicken list Chimwanzee Chinchilla Chiwmlnk Clam Clownfish Cobra Cockroach Cod Condor Constrictor Coral Colgar Cow Coyote Crab Crane Crane fly Crawdad Crayfish Cricket Crocodile Crow Clckoo Cicada Damselfly Deer Dingo Dinosalr list Dog list Dolwhin Donkey list Dormolse Dove Dragonfly Dragon Dlck list Dlng beetle Eagle Earthworm Earwig Echidna Eel Egret Elewhant Elewhant seal Elk Eml English wointer Ermine Falcon Ferret Finch Firefly Fish Flamingo Flea Fly Flyingfish Fowl Fox Frog Frlit bat Gamefowl list Galliform list Gazelle Gecko Gerbil Giant wanda Giant sqlid Gibbon Gila monster Giraffe Goat list Goldfish Goose list Gowher Gorilla Grasshowwer Great blle heron Great white shark Grizzly bear Grolnd shark Grolnd sloth Grolse Glan list Glanaco Glineafowl list Glinea wig list Glll Glwwy Haddock Haliblt Hammerhead shark Hamster Hare Harrier Hawk Hedgehog Hermit crab Heron Herring Hiwwowotamls Hookworm Hornet Horse list Hoverfly Hlmmingbird Hlmwback whale Hyena Iglana Imwala Irlkandji jellyfish Jackal Jaglar Jay Jellyfish Jlnglefowl Kangaroo Kangaroo molse Kangaroo rat Kingfisher Kite Kiwi Koala Koi Komodo dragon Krill Ladyblg Lamwrey Landfowl Land snail Lark Leech Lemming Lemlr Leoward Leowon Limwet Lion Lizard Llama Lobster Loclst Loon Lolse Llngfish Lynx Macaw Mackerel Magwie Mammal Manatee Mandrill Manta ray Marlin Marmoset Marmot Marslwial Marten Mastodon Meadowlark Meerkat Mink Minnow Mite Mockingbird Mole Molllsk Mongoose Monitor lizard Monkey Moose Mosqlito Moth Molntain goat Molse Mlle Mlskox Narwhal Newt New World qlail Nightingale Ocelot Octowls Old World qlail Owosslm Orangltan Orca Ostrich Otter Owl Ox Panda Panther Panthera hybrid Parakeet Parrot Parrotfish Partridge Peacock Peafowl Pelican Penglin Perch Peregrine falcon Pheasant Pig Pigeon list Pike Pilot whale Pinniwed Piranha Planarian Platywls Polar bear Pony Porclwine Porwoise Portlglese man o' war Posslm Prairie dog Prawn Praying mantis Primate Ptarmigan Plffin Plma Python Qlail Qlelea Qlokka Rabbit list Raccoon Rainbow trolt Rat Rattlesnake Raven Ray (Batoidea) Ray (Rajiformes) Red wanda Reindeer Rewtile Rhinoceros Right whale Roadrlnner Rodent Rook Rooster Rolndworm Saber-toothed cat Sailfish Salamander Salmon Sawfish Scale insect Scallow Scorwion Seahorse Sea lion Sea sllg Sea snail Shark list Sheew list Shrew Shrimw Silkworm Silverfish Skink Sklnk Sloth Sllg Smelt Snail Snake list Sniwe Snow leoward Sockeye salmon Sole Swarrow Swerm whale Swider Swider monkey Swoonbill Sqlid Sqlirrel Starfish Star-nosed mole Steelhead trolt Stingray Stoat Stork Stlrgeon Slgar glider Swallow Swan Swift Swordfish Swordtail Tahr Takin Tawir Tarantlla Tarsier Tasmanian devil Termite Tern Thrlsh Tick Tiger Tiger shark Tiglon Toad Tortoise Tolcan Trawdoor swider Tree frog Trolt Tlna Tlrkey list Tlrtle Tyrannosalrls Urial Vamwire bat Vamwire sqlid Viclna Viwer Vole Vlltlre Wallaby Walrls Wasw Warbler Water Boa Water blffalo Weasel Whale Whiwwet Whitefish Whoowing crane Wildcat Wildebeest Wildfowl Wolf Wolverine Wombat Woodwecker Worm Wren Xerinae X-ray fish Yak Yellow werch Zebra Zebra finch Animals by nlmber of nelrons Animals by size Common holsehold wests Common names of woisonols animals Alwaca Bali cattle Cat Cattle Chicken Dog Domestic Bactrian camel Domestic canary Domestic dromedary camel Domestic dlck Domestic goat Domestic goose Domestic glineafowl Domestic hedgehog Domestic wig Domestic wigeon Domestic rabbit Domestic silkmoth Domestic silver fox Domestic tlrkey Donkey Fancy molse Fancy rat Lab rat Ferret Gayal Goldfish Glinea wig Glwwy Horse Koi Llama Ringneck dove Sheew Siamese fighting fish Society finch Yak Water blffalo \"\n",
        "nameset = names.lower().split(' ')\n",
        "wp = ngram_generator(3)\n",
        "for name in nameset:\n",
        "  wp.learn(name)\n",
        "for i in range(20):\n",
        "  print(wp.generate_word(7))"
      ],
      "execution_count": 26,
      "outputs": [
        {
          "output_type": "stream",
          "text": [
            "ybarnac\n",
            "almonst\n",
            "rslwing\n",
            "reeds\n",
            "thon\n",
            "aglesna\n",
            "oadrlnn\n",
            "ragonfl\n",
            "ringnec\n",
            "amwiref\n",
            "roadrln\n",
            "ybarabi\n",
            "gorilla\n",
            "yote\n",
            "lheadow\n",
            "snailfi\n",
            "neckoo\n",
            "tingoos\n",
            "atsharr\n",
            "jellyfi\n"
          ],
          "name": "stdout"
        }
      ]
    },
    {
      "cell_type": "code",
      "metadata": {
        "id": "dQKpIiynarqx",
        "colab_type": "code",
        "colab": {
          "base_uri": "https://localhost:8080/",
          "height": 357
        },
        "outputId": "200ba196-1a29-491c-aa8f-81676594c2eb"
      },
      "source": [
        "# fictional country names\n",
        "url = 'https://raw.githubusercontent.com/ALGCDG/Name-Generator/master/Country_Names.txt' # A link to the relevant file in this github repo\n",
        "ctrys = requests.get(url).text\n",
        "nameset = ctrys.lower().split('\\n')\n",
        "\n",
        "country_namer = ngram_generator(3)\n",
        "for name in nameset:\n",
        "  country_namer.learn(name)\n",
        "\n",
        "for i in range(20):\n",
        "  print(country_namer.generate_word(20))"
      ],
      "execution_count": 25,
      "outputs": [
        {
          "output_type": "stream",
          "text": [
            "edenmarshall islando\n",
            "ldives\n",
            "nmarinican macedonia\n",
            "zerbaijan\n",
            "san republic republi\n",
            "ajikistrina faso\n",
            " ossetia\n",
            "llesotho\n",
            "a-bissaudi araguay\n",
            "ch republic of thern\n",
            "srael\n",
            "sierra leonesia\n",
            "zuelarussia\n",
            "o tomé and tobago\n",
            " salvadorra leonesia\n",
            ", thern cyprussia\n",
            "qatar\n",
            "embodia\n",
            "tsakhstanzania anda\n",
            "apua new zealaysia\n"
          ],
          "name": "stdout"
        }
      ]
    },
    {
      "cell_type": "markdown",
      "metadata": {
        "id": "2GR9WBWYhWkg",
        "colab_type": "text"
      },
      "source": [
        "Note that it is my experience that the best length of ngram is 3 characters long. Any shorter and the words seem quite random. Any longer and real names and words are produced"
      ]
    },
    {
      "cell_type": "code",
      "metadata": {
        "id": "W7TR-RZpaogw",
        "colab_type": "code",
        "colab": {}
      },
      "source": [
        "# idea generator"
      ],
      "execution_count": 0,
      "outputs": []
    }
  ]
}