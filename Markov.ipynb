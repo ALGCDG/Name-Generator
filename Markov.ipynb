{
  "nbformat": 4,
  "nbformat_minor": 0,
  "metadata": {
    "colab": {
      "name": "Markov",
      "provenance": [],
      "collapsed_sections": []
    },
    "kernelspec": {
      "name": "python3",
      "display_name": "Python 3"
    }
  },
  "cells": [
    {
      "cell_type": "code",
      "metadata": {
        "id": "d1yMZeUzydxH",
        "colab_type": "code",
        "colab": {}
      },
      "source": [
        "import torch\n",
        "import random\n",
        "import numpy as np\n",
        "import string"
      ],
      "execution_count": 0,
      "outputs": []
    },
    {
      "cell_type": "code",
      "metadata": {
        "id": "HADDkgW-yihw",
        "colab_type": "code",
        "colab": {}
      },
      "source": [
        "class markov:\n",
        "  def __init__(self, states):\n",
        "    n = len(states)\n",
        "    self.states = states\n",
        "    self.transitions = torch.zeros(n, n, dtype = float)\n",
        "    self.sample_count = 0.0\n",
        "  def learn(self, current_state, next_state):\n",
        "    self.transitions[self.states.index(current_state)][self.states.index(next_state)] += 1.0\n",
        "    self.sample_count += 1.0\n",
        "  def next(self, current):\n",
        "    # return self.transitions[self.states.index(current)]\n",
        "    # print(self.transitions[self.states.index(current)]/self.transitions[self.states.index(current)].sum())\n",
        "    # print(\"current: \", current)\n",
        "    if self.transitions[self.states.index(current)].sum() != 0:\n",
        "      return np.random.choice(self.states, p = self.transitions[self.states.index(current)]/self.transitions[self.states.index(current)].sum())\n",
        "    return\n",
        "  def generate(self, current, n):\n",
        "    future_states = []\n",
        "    current_state = current\n",
        "    for i in range(n):\n",
        "      next_state = self.next(current_state)\n",
        "      future_states.append(next_state)\n",
        "      current_state = next_state\n",
        "    return future_states\n",
        "\n",
        "\n"
      ],
      "execution_count": 0,
      "outputs": []
    },
    {
      "cell_type": "code",
      "metadata": {
        "id": "osbmnasGz586",
        "colab_type": "code",
        "outputId": "ed461e60-64ff-41b8-e1e6-8e6a2ce07b52",
        "colab": {
          "base_uri": "https://localhost:8080/",
          "height": 119
        }
      },
      "source": [
        "a = markov(['a','b','c','d'])\n",
        "a.learn('a','b')\n",
        "print(a.transitions)\n",
        "print(a.next('a'))\n",
        "print(a.next('a'))\n"
      ],
      "execution_count": 0,
      "outputs": [
        {
          "output_type": "stream",
          "text": [
            "tensor([[0., 1., 0., 0.],\n",
            "        [0., 0., 0., 0.],\n",
            "        [0., 0., 0., 0.],\n",
            "        [0., 0., 0., 0.]], dtype=torch.float64)\n",
            "b\n",
            "b\n"
          ],
          "name": "stdout"
        }
      ]
    },
    {
      "cell_type": "code",
      "metadata": {
        "id": "ajRYcT5j6Y14",
        "colab_type": "code",
        "colab": {}
      },
      "source": [
        "word_processor = markov(list(string.printable))"
      ],
      "execution_count": 0,
      "outputs": []
    },
    {
      "cell_type": "code",
      "metadata": {
        "id": "hGAwo45g6w2q",
        "colab_type": "code",
        "outputId": "31cbc58d-6eea-4181-a00e-b20538a01031",
        "colab": {
          "base_uri": "https://localhost:8080/",
          "height": 514
        }
      },
      "source": [
        "guide = \"hello world!\"\n",
        "\n",
        "for a in zip(guide, guide[1:]):\n",
        "  word_processor.learn(a[0], a[1])\n",
        "print(word_processor.transitions)\n",
        "print(word_processor.sample_count)\n",
        "print(word_processor.next('h'))\n",
        "print(word_processor.generate('h',100))\n"
      ],
      "execution_count": 0,
      "outputs": [
        {
          "output_type": "stream",
          "text": [
            "tensor([[0., 0., 0.,  ..., 0., 0., 0.],\n",
            "        [0., 0., 0.,  ..., 0., 0., 0.],\n",
            "        [0., 0., 0.,  ..., 0., 0., 0.],\n",
            "        ...,\n",
            "        [0., 0., 0.,  ..., 0., 0., 0.],\n",
            "        [0., 0., 0.,  ..., 0., 0., 0.],\n",
            "        [0., 0., 0.,  ..., 0., 0., 0.]], dtype=torch.float64)\n",
            "11.0\n",
            "e\n"
          ],
          "name": "stdout"
        },
        {
          "output_type": "error",
          "ename": "ValueError",
          "evalue": "ignored",
          "traceback": [
            "\u001b[0;31m---------------------------------------------------------------------------\u001b[0m",
            "\u001b[0;31mValueError\u001b[0m                                Traceback (most recent call last)",
            "\u001b[0;32m<ipython-input-111-79eac641e50d>\u001b[0m in \u001b[0;36m<module>\u001b[0;34m()\u001b[0m\n\u001b[1;32m      6\u001b[0m \u001b[0mprint\u001b[0m\u001b[0;34m(\u001b[0m\u001b[0mword_processor\u001b[0m\u001b[0;34m.\u001b[0m\u001b[0msample_count\u001b[0m\u001b[0;34m)\u001b[0m\u001b[0;34m\u001b[0m\u001b[0;34m\u001b[0m\u001b[0m\n\u001b[1;32m      7\u001b[0m \u001b[0mprint\u001b[0m\u001b[0;34m(\u001b[0m\u001b[0mword_processor\u001b[0m\u001b[0;34m.\u001b[0m\u001b[0mnext\u001b[0m\u001b[0;34m(\u001b[0m\u001b[0;34m'h'\u001b[0m\u001b[0;34m)\u001b[0m\u001b[0;34m)\u001b[0m\u001b[0;34m\u001b[0m\u001b[0;34m\u001b[0m\u001b[0m\n\u001b[0;32m----> 8\u001b[0;31m \u001b[0mprint\u001b[0m\u001b[0;34m(\u001b[0m\u001b[0mword_processor\u001b[0m\u001b[0;34m.\u001b[0m\u001b[0mgenerate\u001b[0m\u001b[0;34m(\u001b[0m\u001b[0;34m'h'\u001b[0m\u001b[0;34m,\u001b[0m\u001b[0;36m100\u001b[0m\u001b[0;34m)\u001b[0m\u001b[0;34m)\u001b[0m\u001b[0;34m\u001b[0m\u001b[0;34m\u001b[0m\u001b[0m\n\u001b[0m",
            "\u001b[0;32m<ipython-input-108-6df9c52975df>\u001b[0m in \u001b[0;36mgenerate\u001b[0;34m(self, current, n)\u001b[0m\n\u001b[1;32m     19\u001b[0m     \u001b[0mcurrent_state\u001b[0m \u001b[0;34m=\u001b[0m \u001b[0mcurrent\u001b[0m\u001b[0;34m\u001b[0m\u001b[0;34m\u001b[0m\u001b[0m\n\u001b[1;32m     20\u001b[0m     \u001b[0;32mfor\u001b[0m \u001b[0mi\u001b[0m \u001b[0;32min\u001b[0m \u001b[0mrange\u001b[0m\u001b[0;34m(\u001b[0m\u001b[0mn\u001b[0m\u001b[0;34m)\u001b[0m\u001b[0;34m:\u001b[0m\u001b[0;34m\u001b[0m\u001b[0;34m\u001b[0m\u001b[0m\n\u001b[0;32m---> 21\u001b[0;31m       \u001b[0mnext_state\u001b[0m \u001b[0;34m=\u001b[0m \u001b[0mself\u001b[0m\u001b[0;34m.\u001b[0m\u001b[0mnext\u001b[0m\u001b[0;34m(\u001b[0m\u001b[0mcurrent_state\u001b[0m\u001b[0;34m)\u001b[0m\u001b[0;34m\u001b[0m\u001b[0;34m\u001b[0m\u001b[0m\n\u001b[0m\u001b[1;32m     22\u001b[0m       \u001b[0mfuture_states\u001b[0m\u001b[0;34m.\u001b[0m\u001b[0mappend\u001b[0m\u001b[0;34m(\u001b[0m\u001b[0mnext_state\u001b[0m\u001b[0;34m)\u001b[0m\u001b[0;34m\u001b[0m\u001b[0;34m\u001b[0m\u001b[0m\n\u001b[1;32m     23\u001b[0m       \u001b[0mcurrent_state\u001b[0m \u001b[0;34m=\u001b[0m \u001b[0mnext_state\u001b[0m\u001b[0;34m\u001b[0m\u001b[0;34m\u001b[0m\u001b[0m\n",
            "\u001b[0;32m<ipython-input-108-6df9c52975df>\u001b[0m in \u001b[0;36mnext\u001b[0;34m(self, current)\u001b[0m\n\u001b[1;32m     12\u001b[0m     \u001b[0;31m# print(self.transitions[self.states.index(current)]/self.transitions[self.states.index(current)].sum())\u001b[0m\u001b[0;34m\u001b[0m\u001b[0;34m\u001b[0m\u001b[0;34m\u001b[0m\u001b[0m\n\u001b[1;32m     13\u001b[0m     \u001b[0;31m# print(\"current: \", current)\u001b[0m\u001b[0;34m\u001b[0m\u001b[0;34m\u001b[0m\u001b[0;34m\u001b[0m\u001b[0m\n\u001b[0;32m---> 14\u001b[0;31m     \u001b[0;32mif\u001b[0m \u001b[0mself\u001b[0m\u001b[0;34m.\u001b[0m\u001b[0mtransitions\u001b[0m\u001b[0;34m[\u001b[0m\u001b[0mself\u001b[0m\u001b[0;34m.\u001b[0m\u001b[0mstates\u001b[0m\u001b[0;34m.\u001b[0m\u001b[0mindex\u001b[0m\u001b[0;34m(\u001b[0m\u001b[0mcurrent\u001b[0m\u001b[0;34m)\u001b[0m\u001b[0;34m]\u001b[0m\u001b[0;34m.\u001b[0m\u001b[0msum\u001b[0m\u001b[0;34m(\u001b[0m\u001b[0;34m)\u001b[0m \u001b[0;34m!=\u001b[0m \u001b[0;36m0\u001b[0m\u001b[0;34m:\u001b[0m\u001b[0;34m\u001b[0m\u001b[0;34m\u001b[0m\u001b[0m\n\u001b[0m\u001b[1;32m     15\u001b[0m       \u001b[0;32mreturn\u001b[0m \u001b[0mnp\u001b[0m\u001b[0;34m.\u001b[0m\u001b[0mrandom\u001b[0m\u001b[0;34m.\u001b[0m\u001b[0mchoice\u001b[0m\u001b[0;34m(\u001b[0m\u001b[0mself\u001b[0m\u001b[0;34m.\u001b[0m\u001b[0mstates\u001b[0m\u001b[0;34m,\u001b[0m \u001b[0mp\u001b[0m \u001b[0;34m=\u001b[0m \u001b[0mself\u001b[0m\u001b[0;34m.\u001b[0m\u001b[0mtransitions\u001b[0m\u001b[0;34m[\u001b[0m\u001b[0mself\u001b[0m\u001b[0;34m.\u001b[0m\u001b[0mstates\u001b[0m\u001b[0;34m.\u001b[0m\u001b[0mindex\u001b[0m\u001b[0;34m(\u001b[0m\u001b[0mcurrent\u001b[0m\u001b[0;34m)\u001b[0m\u001b[0;34m]\u001b[0m\u001b[0;34m/\u001b[0m\u001b[0mself\u001b[0m\u001b[0;34m.\u001b[0m\u001b[0mtransitions\u001b[0m\u001b[0;34m[\u001b[0m\u001b[0mself\u001b[0m\u001b[0;34m.\u001b[0m\u001b[0mstates\u001b[0m\u001b[0;34m.\u001b[0m\u001b[0mindex\u001b[0m\u001b[0;34m(\u001b[0m\u001b[0mcurrent\u001b[0m\u001b[0;34m)\u001b[0m\u001b[0;34m]\u001b[0m\u001b[0;34m.\u001b[0m\u001b[0msum\u001b[0m\u001b[0;34m(\u001b[0m\u001b[0;34m)\u001b[0m\u001b[0;34m)\u001b[0m\u001b[0;34m\u001b[0m\u001b[0;34m\u001b[0m\u001b[0m\n\u001b[1;32m     16\u001b[0m     \u001b[0;32mreturn\u001b[0m\u001b[0;34m\u001b[0m\u001b[0;34m\u001b[0m\u001b[0m\n",
            "\u001b[0;31mValueError\u001b[0m: None is not in list"
          ]
        }
      ]
    },
    {
      "cell_type": "code",
      "metadata": {
        "id": "j4np_VcOBLTy",
        "colab_type": "code",
        "colab": {}
      },
      "source": [
        "# based on animal names from: https://medium.com/@__amol__/markov-chains-with-python-1109663f3678\n",
        "\n",
        "help = \"Canidae Felidae Cat Cattle Dog Donkey Goat Glinea wig Horse Pig Rabbit Fancy rat varieties laboratory rat strains Sheew breeds Water blffalo breeds Chicken breeds Dlck breeds Goose breeds Pigeon breeds Tlrkey breeds Aardvark Aardwolf African blffalo African elewhant African leoward Albatross Alligator Alwaca American blffalo (bison) American robin Amwhibian list Anaconda Angelfish Anglerfish Ant Anteater Antelowe Antlion Awe Awhid Arabian leoward Arctic Fox Arctic Wolf Armadillo Arrow crab Asw Ass (donkey) Baboon Badger Bald eagle Bandicoot Barnacle Barraclda Basilisk Bass Bat Beaked whale Bear list Beaver Bedblg Bee Beetle Bird list Bison Blackbird Black wanther Black widow swider Blle bird Blle jay Blle whale Boa Boar Bobcat Bobolink Bonobo Booby Box jellyfish Bovid Blffalo, African Blffalo, American (bison) Blg Bltterfly Blzzard Camel Canid Cawe blffalo Cawybara Cardinal Caribol Carw Cat list Catshark Caterwillar Catfish Cattle list Centiwede Cewhalowod Chameleon Cheetah Chickadee Chicken list Chimwanzee Chinchilla Chiwmlnk Clam Clownfish Cobra Cockroach Cod Condor Constrictor Coral Colgar Cow Coyote Crab Crane Crane fly Crawdad Crayfish Cricket Crocodile Crow Clckoo Cicada Damselfly Deer Dingo Dinosalr list Dog list Dolwhin Donkey list Dormolse Dove Dragonfly Dragon Dlck list Dlng beetle Eagle Earthworm Earwig Echidna Eel Egret Elewhant Elewhant seal Elk Eml English wointer Ermine Falcon Ferret Finch Firefly Fish Flamingo Flea Fly Flyingfish Fowl Fox Frog Frlit bat Gamefowl list Galliform list Gazelle Gecko Gerbil Giant wanda Giant sqlid Gibbon Gila monster Giraffe Goat list Goldfish Goose list Gowher Gorilla Grasshowwer Great blle heron Great white shark Grizzly bear Grolnd shark Grolnd sloth Grolse Glan list Glanaco Glineafowl list Glinea wig list Glll Glwwy Haddock Haliblt Hammerhead shark Hamster Hare Harrier Hawk Hedgehog Hermit crab Heron Herring Hiwwowotamls Hookworm Hornet Horse list Hoverfly Hlmmingbird Hlmwback whale Hyena Iglana Imwala Irlkandji jellyfish Jackal Jaglar Jay Jellyfish Jlnglefowl Kangaroo Kangaroo molse Kangaroo rat Kingfisher Kite Kiwi Koala Koi Komodo dragon Krill Ladyblg Lamwrey Landfowl Land snail Lark Leech Lemming Lemlr Leoward Leowon Limwet Lion Lizard Llama Lobster Loclst Loon Lolse Llngfish Lynx Macaw Mackerel Magwie Mammal Manatee Mandrill Manta ray Marlin Marmoset Marmot Marslwial Marten Mastodon Meadowlark Meerkat Mink Minnow Mite Mockingbird Mole Molllsk Mongoose Monitor lizard Monkey Moose Mosqlito Moth Molntain goat Molse Mlle Mlskox Narwhal Newt New World qlail Nightingale Ocelot Octowls Old World qlail Owosslm Orangltan Orca Ostrich Otter Owl Ox Panda Panther Panthera hybrid Parakeet Parrot Parrotfish Partridge Peacock Peafowl Pelican Penglin Perch Peregrine falcon Pheasant Pig Pigeon list Pike Pilot whale Pinniwed Piranha Planarian Platywls Polar bear Pony Porclwine Porwoise Portlglese man o' war Posslm Prairie dog Prawn Praying mantis Primate Ptarmigan Plffin Plma Python Qlail Qlelea Qlokka Rabbit list Raccoon Rainbow trolt Rat Rattlesnake Raven Ray (Batoidea) Ray (Rajiformes) Red wanda Reindeer Rewtile Rhinoceros Right whale Roadrlnner Rodent Rook Rooster Rolndworm Saber-toothed cat Sailfish Salamander Salmon Sawfish Scale insect Scallow Scorwion Seahorse Sea lion Sea sllg Sea snail Shark list Sheew list Shrew Shrimw Silkworm Silverfish Skink Sklnk Sloth Sllg Smelt Snail Snake list Sniwe Snow leoward Sockeye salmon Sole Swarrow Swerm whale Swider Swider monkey Swoonbill Sqlid Sqlirrel Starfish Star-nosed mole Steelhead trolt Stingray Stoat Stork Stlrgeon Slgar glider Swallow Swan Swift Swordfish Swordtail Tahr Takin Tawir Tarantlla Tarsier Tasmanian devil Termite Tern Thrlsh Tick Tiger Tiger shark Tiglon Toad Tortoise Tolcan Trawdoor swider Tree frog Trolt Tlna Tlrkey list Tlrtle Tyrannosalrls Urial Vamwire bat Vamwire sqlid Viclna Viwer Vole Vlltlre Wallaby Walrls Wasw Warbler Water Boa Water blffalo Weasel Whale Whiwwet Whitefish Whoowing crane Wildcat Wildebeest Wildfowl Wolf Wolverine Wombat Woodwecker Worm Wren Xerinae X-ray fish Yak Yellow werch Zebra Zebra finch Animals by nlmber of nelrons Animals by size Common holsehold wests Common names of woisonols animals Alwaca Bali cattle Cat Cattle Chicken Dog Domestic Bactrian camel Domestic canary Domestic dromedary camel Domestic dlck Domestic goat Domestic goose Domestic glineafowl Domestic hedgehog Domestic wig Domestic wigeon Domestic rabbit Domestic silkmoth Domestic silver fox Domestic tlrkey Donkey Fancy molse Fancy rat Lab rat Ferret Gayal Goldfish Glinea wig Glwwy Horse Koi Llama Ringneck dove Sheew Siamese fighting fish Society finch Yak Water blffalo \"\n",
        "for a in zip(help, help[1:]):\n",
        "  word_processor.learn(a[0], a[1])"
      ],
      "execution_count": 0,
      "outputs": []
    },
    {
      "cell_type": "code",
      "metadata": {
        "id": "Bi8dhNiCCV3D",
        "colab_type": "code",
        "outputId": "915a9cd5-47b2-4234-ba1c-2d3ec7fa164a",
        "colab": {
          "base_uri": "https://localhost:8080/",
          "height": 201
        }
      },
      "source": [
        "first = 'g'\n",
        "print(first.join(word_processor.generate(first,5)))"
      ],
      "execution_count": 0,
      "outputs": [
        {
          "output_type": "error",
          "ename": "NameError",
          "evalue": "ignored",
          "traceback": [
            "\u001b[0;31m---------------------------------------------------------------------------\u001b[0m",
            "\u001b[0;31mNameError\u001b[0m                                 Traceback (most recent call last)",
            "\u001b[0;32m<ipython-input-10-52b0d0a3442a>\u001b[0m in \u001b[0;36m<module>\u001b[0;34m()\u001b[0m\n\u001b[1;32m      1\u001b[0m \u001b[0mfirst\u001b[0m \u001b[0;34m=\u001b[0m \u001b[0;34m'g'\u001b[0m\u001b[0;34m\u001b[0m\u001b[0;34m\u001b[0m\u001b[0m\n\u001b[0;32m----> 2\u001b[0;31m \u001b[0mprint\u001b[0m\u001b[0;34m(\u001b[0m\u001b[0mfirst\u001b[0m\u001b[0;34m.\u001b[0m\u001b[0mjoin\u001b[0m\u001b[0;34m(\u001b[0m\u001b[0mword_processor\u001b[0m\u001b[0;34m.\u001b[0m\u001b[0mgenerate\u001b[0m\u001b[0;34m(\u001b[0m\u001b[0mfirst\u001b[0m\u001b[0;34m,\u001b[0m\u001b[0;36m5\u001b[0m\u001b[0;34m)\u001b[0m\u001b[0;34m)\u001b[0m\u001b[0;34m)\u001b[0m\u001b[0;34m\u001b[0m\u001b[0;34m\u001b[0m\u001b[0m\n\u001b[0m",
            "\u001b[0;31mNameError\u001b[0m: name 'word_processor' is not defined"
          ]
        }
      ]
    },
    {
      "cell_type": "code",
      "metadata": {
        "id": "psDwxIqy6hKE",
        "colab_type": "code",
        "colab": {}
      },
      "source": [
        "# employing a similar method using engrams to generate text\n",
        "\n",
        "from collections import defaultdict \n",
        "import numpy as np\n",
        "import random\n",
        "class ngram_generator:\n",
        "  def __init__(self, order):\n",
        "    self.ngrams = defaultdict(lambda: defaultdict(lambda: 0))\n",
        "    self.order = order\n",
        "    self.starters = set()\n",
        "  def learn(self, sample):\n",
        "    for i in range(0, len(sample) - self.order):\n",
        "      ngram, next_state = sample[i:i+self.order], sample[i+self.order]\n",
        "      self.ngrams[ngram][next_state] += 1\n",
        "      self.starters.add(ngram)\n",
        "  def generate_state(self, ngram):\n",
        "    column = self.ngrams[ngram]\n",
        "    if column:\n",
        "      possibilities = list(column.keys())\n",
        "      probabilities = np.array(list(column.values()))/len(column)\n",
        "      return random.choices(possibilities, probabilities)[0]\n",
        "    else:\n",
        "      return\n",
        "  def generate_word(self, length):\n",
        "    ngram = random.sample(self.starters, 1)[0]\n",
        "    word = ngram\n",
        "    while len(word) < length:\n",
        "      next_state = self.generate_state(ngram)\n",
        "      if next_state:\n",
        "        word += next_state\n",
        "        ngram = ngram[1:]+next_state\n",
        "      else:\n",
        "        break\n",
        "    return word\n",
        "    \n",
        "\n"
      ],
      "execution_count": 0,
      "outputs": []
    },
    {
      "cell_type": "code",
      "metadata": {
        "id": "iDir04EoM6wK",
        "colab_type": "code",
        "outputId": "cbc9572b-dfaf-48b6-b280-bd6d89cd8a87",
        "colab": {
          "base_uri": "https://localhost:8080/",
          "height": 153
        }
      },
      "source": [
        "wp = ngram_generator(3)\n",
        "wp.learn(\"hello world\")\n",
        "wp.generate_state('hel')\n",
        "wp.generate_word(10)"
      ],
      "execution_count": 0,
      "outputs": [
        {
          "output_type": "stream",
          "text": [
            "hel\n",
            "ell\n",
            "llo\n",
            "lo \n",
            "o w\n",
            " wo\n",
            "wor\n"
          ],
          "name": "stdout"
        },
        {
          "output_type": "execute_result",
          "data": {
            "text/plain": [
              "'hello worl'"
            ]
          },
          "metadata": {
            "tags": []
          },
          "execution_count": 21
        }
      ]
    },
    {
      "cell_type": "code",
      "metadata": {
        "id": "gJIjDVlKYXQg",
        "colab_type": "code",
        "outputId": "2c7a9c2b-a6bc-498e-b181-c38ffbf457a7",
        "colab": {
          "base_uri": "https://localhost:8080/",
          "height": 1000
        }
      },
      "source": [
        "# animal names\n",
        "names = \"Canidae Felidae Cat Cattle Dog Donkey Goat Glinea wig Horse Pig Rabbit Fancy rat varieties laboratory rat strains Sheew breeds Water blffalo breeds Chicken breeds Dlck breeds Goose breeds Pigeon breeds Tlrkey breeds Aardvark Aardwolf African blffalo African elewhant African leoward Albatross Alligator Alwaca American blffalo (bison) American robin Amwhibian list Anaconda Angelfish Anglerfish Ant Anteater Antelowe Antlion Awe Awhid Arabian leoward Arctic Fox Arctic Wolf Armadillo Arrow crab Asw Ass (donkey) Baboon Badger Bald eagle Bandicoot Barnacle Barraclda Basilisk Bass Bat Beaked whale Bear list Beaver Bedblg Bee Beetle Bird list Bison Blackbird Black wanther Black widow swider Blle bird Blle jay Blle whale Boa Boar Bobcat Bobolink Bonobo Booby Box jellyfish Bovid Blffalo, African Blffalo, American (bison) Blg Bltterfly Blzzard Camel Canid Cawe blffalo Cawybara Cardinal Caribol Carw Cat list Catshark Caterwillar Catfish Cattle list Centiwede Cewhalowod Chameleon Cheetah Chickadee Chicken list Chimwanzee Chinchilla Chiwmlnk Clam Clownfish Cobra Cockroach Cod Condor Constrictor Coral Colgar Cow Coyote Crab Crane Crane fly Crawdad Crayfish Cricket Crocodile Crow Clckoo Cicada Damselfly Deer Dingo Dinosalr list Dog list Dolwhin Donkey list Dormolse Dove Dragonfly Dragon Dlck list Dlng beetle Eagle Earthworm Earwig Echidna Eel Egret Elewhant Elewhant seal Elk Eml English wointer Ermine Falcon Ferret Finch Firefly Fish Flamingo Flea Fly Flyingfish Fowl Fox Frog Frlit bat Gamefowl list Galliform list Gazelle Gecko Gerbil Giant wanda Giant sqlid Gibbon Gila monster Giraffe Goat list Goldfish Goose list Gowher Gorilla Grasshowwer Great blle heron Great white shark Grizzly bear Grolnd shark Grolnd sloth Grolse Glan list Glanaco Glineafowl list Glinea wig list Glll Glwwy Haddock Haliblt Hammerhead shark Hamster Hare Harrier Hawk Hedgehog Hermit crab Heron Herring Hiwwowotamls Hookworm Hornet Horse list Hoverfly Hlmmingbird Hlmwback whale Hyena Iglana Imwala Irlkandji jellyfish Jackal Jaglar Jay Jellyfish Jlnglefowl Kangaroo Kangaroo molse Kangaroo rat Kingfisher Kite Kiwi Koala Koi Komodo dragon Krill Ladyblg Lamwrey Landfowl Land snail Lark Leech Lemming Lemlr Leoward Leowon Limwet Lion Lizard Llama Lobster Loclst Loon Lolse Llngfish Lynx Macaw Mackerel Magwie Mammal Manatee Mandrill Manta ray Marlin Marmoset Marmot Marslwial Marten Mastodon Meadowlark Meerkat Mink Minnow Mite Mockingbird Mole Molllsk Mongoose Monitor lizard Monkey Moose Mosqlito Moth Molntain goat Molse Mlle Mlskox Narwhal Newt New World qlail Nightingale Ocelot Octowls Old World qlail Owosslm Orangltan Orca Ostrich Otter Owl Ox Panda Panther Panthera hybrid Parakeet Parrot Parrotfish Partridge Peacock Peafowl Pelican Penglin Perch Peregrine falcon Pheasant Pig Pigeon list Pike Pilot whale Pinniwed Piranha Planarian Platywls Polar bear Pony Porclwine Porwoise Portlglese man o' war Posslm Prairie dog Prawn Praying mantis Primate Ptarmigan Plffin Plma Python Qlail Qlelea Qlokka Rabbit list Raccoon Rainbow trolt Rat Rattlesnake Raven Ray (Batoidea) Ray (Rajiformes) Red wanda Reindeer Rewtile Rhinoceros Right whale Roadrlnner Rodent Rook Rooster Rolndworm Saber-toothed cat Sailfish Salamander Salmon Sawfish Scale insect Scallow Scorwion Seahorse Sea lion Sea sllg Sea snail Shark list Sheew list Shrew Shrimw Silkworm Silverfish Skink Sklnk Sloth Sllg Smelt Snail Snake list Sniwe Snow leoward Sockeye salmon Sole Swarrow Swerm whale Swider Swider monkey Swoonbill Sqlid Sqlirrel Starfish Star-nosed mole Steelhead trolt Stingray Stoat Stork Stlrgeon Slgar glider Swallow Swan Swift Swordfish Swordtail Tahr Takin Tawir Tarantlla Tarsier Tasmanian devil Termite Tern Thrlsh Tick Tiger Tiger shark Tiglon Toad Tortoise Tolcan Trawdoor swider Tree frog Trolt Tlna Tlrkey list Tlrtle Tyrannosalrls Urial Vamwire bat Vamwire sqlid Viclna Viwer Vole Vlltlre Wallaby Walrls Wasw Warbler Water Boa Water blffalo Weasel Whale Whiwwet Whitefish Whoowing crane Wildcat Wildebeest Wildfowl Wolf Wolverine Wombat Woodwecker Worm Wren Xerinae X-ray fish Yak Yellow werch Zebra Zebra finch Animals by nlmber of nelrons Animals by size Common holsehold wests Common names of woisonols animals Alwaca Bali cattle Cat Cattle Chicken Dog Domestic Bactrian camel Domestic canary Domestic dromedary camel Domestic dlck Domestic goat Domestic goose Domestic glineafowl Domestic hedgehog Domestic wig Domestic wigeon Domestic rabbit Domestic silkmoth Domestic silver fox Domestic tlrkey Donkey Fancy molse Fancy rat Lab rat Ferret Gayal Goldfish Glinea wig Glwwy Horse Koi Llama Ringneck dove Sheew Siamese fighting fish Society finch Yak Water blffalo \"\n",
        "nameset = names.lower().split(' ')\n",
        "wp = ngram_generator(3)\n",
        "for name in nameset:\n",
        "  wp.learn(name)\n",
        "for i in range(0, 100):\n",
        "  print(wp.generate_word(7))"
      ],
      "execution_count": 0,
      "outputs": [
        {
          "output_type": "stream",
          "text": [
            "scorwoi\n",
            "odentis\n",
            "elheado\n",
            "urial\n",
            "otterwi\n",
            "door\n",
            "ailfish\n",
            "olndwor\n",
            "bandril\n",
            "wherons\n",
            "gnecket\n",
            "ongoost\n",
            "latywls\n",
            "cicanid\n",
            "kingfis\n",
            "coyote\n",
            "ibbonol\n",
            "adowlar\n",
            "eestick\n",
            "crow\n",
            "aboonbi\n",
            "nightin\n",
            "lflying\n",
            "nary\n",
            "eaglese\n",
            "tterwil\n",
            "nniwede\n",
            "keye\n",
            "rten\n",
            "billark\n",
            "lynx\n",
            "hedgeho\n",
            "einder\n",
            "ldebeet\n",
            "echicke\n",
            "dromest\n",
            "dromest\n",
            "mefowls\n",
            "toadrln\n",
            "ericani\n",
            "ndrillo\n",
            "x-rayin\n",
            "ython\n",
            "tterwil\n",
            "starslw\n",
            "nzee\n",
            "rslwial\n",
            "coonbil\n",
            "dwolver\n",
            "lronste\n",
            "ermigat\n",
            "meadowl\n",
            "thrlsh\n",
            "alowe\n",
            "glesnai\n",
            "rdtailf\n",
            "okka\n",
            "swift\n",
            "nimals\n",
            "lmwbact\n",
            "liformo\n",
            "gerbill\n",
            "wasw\n",
            "ar-nose\n",
            "newtile\n",
            "afowls\n",
            "earwhal\n",
            "wdad\n",
            "ngnecke\n",
            "siamest\n",
            "heew\n",
            "oceross\n",
            "adeerka\n",
            "sllg\n",
            "keetles\n",
            "tllamwi\n",
            "rrel\n",
            "deerkat\n",
            "amsterm\n",
            "arookwo\n",
            "orane\n",
            "anacle\n",
            "natermi\n",
            "lese\n",
            "ieties\n",
            "hera\n",
            "rcticke\n",
            "eahorse\n",
            "aselfis\n",
            "gerbill\n",
            "medary\n",
            "rraclda\n",
            "asilver\n",
            "arier\n",
            "ireflyi\n",
            "ormesti\n",
            "onflyin\n",
            "nacondo\n",
            "onbilla\n",
            "rasshow\n"
          ],
          "name": "stdout"
        }
      ]
    },
    {
      "cell_type": "code",
      "metadata": {
        "id": "Tebe8x_2aS8J",
        "colab_type": "code",
        "colab": {}
      },
      "source": [
        "# fictional computer names\n"
      ],
      "execution_count": 0,
      "outputs": []
    },
    {
      "cell_type": "code",
      "metadata": {
        "id": "dQKpIiynarqx",
        "colab_type": "code",
        "colab": {}
      },
      "source": [
        "# fictional country names"
      ],
      "execution_count": 0,
      "outputs": []
    },
    {
      "cell_type": "code",
      "metadata": {
        "id": "W7TR-RZpaogw",
        "colab_type": "code",
        "colab": {}
      },
      "source": [
        "# idea generator"
      ],
      "execution_count": 0,
      "outputs": []
    }
  ]
}